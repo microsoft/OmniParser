{
 "cells": [
  {
   "cell_type": "markdown",
   "id": "578457c0",
   "metadata": {},
   "source": [
    "# Test instance"
   ]
  },
  {
   "cell_type": "code",
   "execution_count": 1,
   "id": "ae7b2936",
   "metadata": {},
   "outputs": [
    {
     "data": {
      "application/vnd.jupyter.widget-view+json": {
       "model_id": "af9a41f28b6245168be034d10a2303cd",
       "version_major": 2,
       "version_minor": 0
      },
      "text/plain": [
       "VBox(children=(FloatLogSlider(value=1.0, base=2.0, description='wait (s)', max=5.0, min=-3.0, step=1.0), HBox(…"
      ]
     },
     "metadata": {},
     "output_type": "display_data"
    }
   ],
   "source": [
    "import client\n",
    "client.InstanceClient(port = 5001).ui()"
   ]
  },
  {
   "cell_type": "markdown",
   "id": "741598f1",
   "metadata": {},
   "source": [
    "# Test node"
   ]
  },
  {
   "cell_type": "code",
   "execution_count": 2,
   "id": "eca33f8c",
   "metadata": {},
   "outputs": [
    {
     "data": {
      "application/vnd.jupyter.widget-view+json": {
       "model_id": "c7f1d7a7f3f74587a4ee5d0d648025cd",
       "version_major": 2,
       "version_minor": 0
      },
      "text/plain": [
       "VBox(children=(HBox(children=(RadioButtons(description='Instances', layout=Layout(width='50%'), options=(), va…"
      ]
     },
     "metadata": {},
     "output_type": "display_data"
    }
   ],
   "source": [
    "import client\n",
    "c = client.NodeClient(port = 8000)\n",
    "c.ui()"
   ]
  },
  {
   "cell_type": "markdown",
   "id": "c2b1810b",
   "metadata": {},
   "source": [
    "# Test master node"
   ]
  },
  {
   "cell_type": "code",
   "execution_count": 1,
   "id": "bf6188a0",
   "metadata": {},
   "outputs": [
    {
     "name": "stdout",
     "output_type": "stream",
     "text": [
      "<class 'list'>\n"
     ]
    },
    {
     "data": {
      "application/vnd.jupyter.widget-view+json": {
       "model_id": "4d55d4c417724189b0d0129f93f80a08",
       "version_major": 2,
       "version_minor": 0
      },
      "text/plain": [
       "VBox(children=(HBox(children=(RadioButtons(description='Instances', layout=Layout(width='50%'), options=('{\"in…"
      ]
     },
     "metadata": {},
     "output_type": "display_data"
    }
   ],
   "source": [
    "import client\n",
    "c = client.MasterClient(port = 7000)\n",
    "c.ui()"
   ]
  }
 ],
 "metadata": {
  "kernelspec": {
   "display_name": "omnibox",
   "language": "python",
   "name": "python3"
  },
  "language_info": {
   "codemirror_mode": {
    "name": "ipython",
    "version": 3
   },
   "file_extension": ".py",
   "mimetype": "text/x-python",
   "name": "python",
   "nbconvert_exporter": "python",
   "pygments_lexer": "ipython3",
   "version": "3.12.9"
  }
 },
 "nbformat": 4,
 "nbformat_minor": 5
}

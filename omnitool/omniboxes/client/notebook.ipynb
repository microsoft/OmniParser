{
 "cells": [
  {
   "cell_type": "markdown",
   "id": "578457c0",
   "metadata": {},
   "source": [
    "# Test instance"
   ]
  },
  {
   "cell_type": "code",
   "execution_count": null,
   "id": "ae7b2936",
   "metadata": {},
   "outputs": [],
   "source": [
    "import client\n",
    "client.InstanceClient(port = 5000).ui()"
   ]
  },
  {
   "cell_type": "markdown",
   "id": "741598f1",
   "metadata": {},
   "source": [
    "# Test node"
   ]
  },
  {
   "cell_type": "code",
   "execution_count": null,
   "id": "eca33f8c",
   "metadata": {},
   "outputs": [],
   "source": [
    "import client\n",
    "c = client.NodeClient(port = 8000)\n",
    "c.ui()"
   ]
  },
  {
   "cell_type": "markdown",
   "id": "c2b1810b",
   "metadata": {},
   "source": [
    "# Test master node"
   ]
  },
  {
   "cell_type": "code",
   "execution_count": null,
   "id": "bf6188a0",
   "metadata": {},
   "outputs": [],
   "source": [
    "import client\n",
    "c = client.MasterClient(port = 7000)\n",
    "c.ui()"
   ]
  }
 ],
 "metadata": {
  "kernelspec": {
   "display_name": "omnibox",
   "language": "python",
   "name": "python3"
  },
  "language_info": {
   "codemirror_mode": {
    "name": "ipython",
    "version": 3
   },
   "file_extension": ".py",
   "mimetype": "text/x-python",
   "name": "python",
   "nbconvert_exporter": "python",
   "pygments_lexer": "ipython3",
   "version": "3.12.9"
  }
 },
 "nbformat": 4,
 "nbformat_minor": 5
}
